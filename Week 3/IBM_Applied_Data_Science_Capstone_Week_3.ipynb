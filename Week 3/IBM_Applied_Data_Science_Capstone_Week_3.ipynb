{
  "nbformat": 4,
  "nbformat_minor": 0,
  "metadata": {
    "colab": {
      "name": "IBM Applied Data Science Capstone-Week 3.ipynb",
      "provenance": [],
      "toc_visible": true
    },
    "kernelspec": {
      "name": "python3",
      "display_name": "Python 3"
    }
  },
  "cells": [
    {
      "cell_type": "markdown",
      "metadata": {
        "id": "IJcucikeiDKV",
        "colab_type": "text"
      },
      "source": [
        "# Part 1"
      ]
    },
    {
      "cell_type": "markdown",
      "metadata": {
        "id": "qRl1yNRTiIsi",
        "colab_type": "text"
      },
      "source": [
        "import modules"
      ]
    },
    {
      "cell_type": "code",
      "metadata": {
        "id": "tjlKTwK_PRTq",
        "colab_type": "code",
        "colab": {}
      },
      "source": [
        "import pandas as pd\n",
        "import numpy as np\n",
        "import requests\n",
        "from bs4 import BeautifulSoup"
      ],
      "execution_count": 1,
      "outputs": []
    },
    {
      "cell_type": "markdown",
      "metadata": {
        "id": "Y-5XY_EMiO6v",
        "colab_type": "text"
      },
      "source": [
        "Extract data from the table in the URL"
      ]
    },
    {
      "cell_type": "code",
      "metadata": {
        "id": "WYjwwhzJP6zN",
        "colab_type": "code",
        "colab": {
          "base_uri": "https://localhost:8080/",
          "height": 1000
        },
        "outputId": "74a5c5e0-8574-4fb9-bd74-105d8a37ec1d"
      },
      "source": [
        "url = \"https://en.wikipedia.org/wiki/List_of_postal_codes_of_Canada:_M\"\n",
        "extracting_data = requests.get(url).text\n",
        "wiki_data = BeautifulSoup(extracting_data, 'lxml')\n",
        "\n",
        "data = []\n",
        "content = wiki_data.find('div', class_='mw-parser-output')\n",
        "table_body = content.table.tbody\n",
        "\n",
        "rows = table_body.find_all('tr')\n",
        "for row in rows:\n",
        "    cols = row.find_all('td')\n",
        "    cols = [ele.text.strip() for ele in cols]\n",
        "    data.append([ele for ele in cols if ele])\n",
        "\n",
        "data = np.array(data[1:])\n",
        "print(data.shape)\n",
        "for entry in data:\n",
        "  print(entry)"
      ],
      "execution_count": 2,
      "outputs": [
        {
          "output_type": "stream",
          "text": [
            "(180, 3)\n",
            "['M1A' 'Not assigned' 'Not assigned']\n",
            "['M2A' 'Not assigned' 'Not assigned']\n",
            "['M3A' 'North York' 'Parkwoods']\n",
            "['M4A' 'North York' 'Victoria Village']\n",
            "['M5A' 'Downtown Toronto' 'Regent Park, Harbourfront']\n",
            "['M6A' 'North York' 'Lawrence Manor, Lawrence Heights']\n",
            "['M7A' 'Downtown Toronto' \"Queen's Park, Ontario Provincial Government\"]\n",
            "['M8A' 'Not assigned' 'Not assigned']\n",
            "['M9A' 'Etobicoke' 'Islington Avenue, Humber Valley Village']\n",
            "['M1B' 'Scarborough' 'Malvern, Rouge']\n",
            "['M2B' 'Not assigned' 'Not assigned']\n",
            "['M3B' 'North York' 'Don Mills']\n",
            "['M4B' 'East York' 'Parkview Hill, Woodbine Gardens']\n",
            "['M5B' 'Downtown Toronto' 'Garden District, Ryerson']\n",
            "['M6B' 'North York' 'Glencairn']\n",
            "['M7B' 'Not assigned' 'Not assigned']\n",
            "['M8B' 'Not assigned' 'Not assigned']\n",
            "['M9B' 'Etobicoke'\n",
            " 'West Deane Park, Princess Gardens, Martin Grove, Islington, Cloverdale']\n",
            "['M1C' 'Scarborough' 'Rouge Hill, Port Union, Highland Creek']\n",
            "['M2C' 'Not assigned' 'Not assigned']\n",
            "['M3C' 'North York' 'Don Mills']\n",
            "['M4C' 'East York' 'Woodbine Heights']\n",
            "['M5C' 'Downtown Toronto' 'St. James Town']\n",
            "['M6C' 'York' 'Humewood-Cedarvale']\n",
            "['M7C' 'Not assigned' 'Not assigned']\n",
            "['M8C' 'Not assigned' 'Not assigned']\n",
            "['M9C' 'Etobicoke'\n",
            " 'Eringate, Bloordale Gardens, Old Burnhamthorpe, Markland Wood']\n",
            "['M1E' 'Scarborough' 'Guildwood, Morningside, West Hill']\n",
            "['M2E' 'Not assigned' 'Not assigned']\n",
            "['M3E' 'Not assigned' 'Not assigned']\n",
            "['M4E' 'East Toronto' 'The Beaches']\n",
            "['M5E' 'Downtown Toronto' 'Berczy Park']\n",
            "['M6E' 'York' 'Caledonia-Fairbanks']\n",
            "['M7E' 'Not assigned' 'Not assigned']\n",
            "['M8E' 'Not assigned' 'Not assigned']\n",
            "['M9E' 'Not assigned' 'Not assigned']\n",
            "['M1G' 'Scarborough' 'Woburn']\n",
            "['M2G' 'Not assigned' 'Not assigned']\n",
            "['M3G' 'Not assigned' 'Not assigned']\n",
            "['M4G' 'East York' 'Leaside']\n",
            "['M5G' 'Downtown Toronto' 'Central Bay Street']\n",
            "['M6G' 'Downtown Toronto' 'Christie']\n",
            "['M7G' 'Not assigned' 'Not assigned']\n",
            "['M8G' 'Not assigned' 'Not assigned']\n",
            "['M9G' 'Not assigned' 'Not assigned']\n",
            "['M1H' 'Scarborough' 'Cedarbrae']\n",
            "['M2H' 'North York' 'Hillcrest Village']\n",
            "['M3H' 'North York' 'Bathurst Manor, Wilson Heights, Downsview North']\n",
            "['M4H' 'East York' 'Thorncliffe Park']\n",
            "['M5H' 'Downtown Toronto' 'Richmond, Adelaide, King']\n",
            "['M6H' 'West Toronto' 'Dufferin, Dovercourt Village']\n",
            "['M7H' 'Not assigned' 'Not assigned']\n",
            "['M8H' 'Not assigned' 'Not assigned']\n",
            "['M9H' 'Not assigned' 'Not assigned']\n",
            "['M1J' 'Scarborough' 'Scarborough Village']\n",
            "['M2J' 'North York' 'Fairview, Henry Farm, Oriole']\n",
            "['M3J' 'North York' 'Northwood Park, York University']\n",
            "['M4J' 'East York' 'East Toronto, Broadview North (Old East York)']\n",
            "['M5J' 'Downtown Toronto'\n",
            " 'Harbourfront East, Union Station, Toronto Islands']\n",
            "['M6J' 'West Toronto' 'Little Portugal, Trinity']\n",
            "['M7J' 'Not assigned' 'Not assigned']\n",
            "['M8J' 'Not assigned' 'Not assigned']\n",
            "['M9J' 'Not assigned' 'Not assigned']\n",
            "['M1K' 'Scarborough' 'Kennedy Park, Ionview, East Birchmount Park']\n",
            "['M2K' 'North York' 'Bayview Village']\n",
            "['M3K' 'North York' 'Downsview']\n",
            "['M4K' 'East Toronto' 'The Danforth West, Riverdale']\n",
            "['M5K' 'Downtown Toronto' 'Toronto Dominion Centre, Design Exchange']\n",
            "['M6K' 'West Toronto' 'Brockton, Parkdale Village, Exhibition Place']\n",
            "['M7K' 'Not assigned' 'Not assigned']\n",
            "['M8K' 'Not assigned' 'Not assigned']\n",
            "['M9K' 'Not assigned' 'Not assigned']\n",
            "['M1L' 'Scarborough' 'Golden Mile, Clairlea, Oakridge']\n",
            "['M2L' 'North York' 'York Mills, Silver Hills']\n",
            "['M3L' 'North York' 'Downsview']\n",
            "['M4L' 'East Toronto' 'India Bazaar, The Beaches West']\n",
            "['M5L' 'Downtown Toronto' 'Commerce Court, Victoria Hotel']\n",
            "['M6L' 'North York' 'North Park, Maple Leaf Park, Upwood Park']\n",
            "['M7L' 'Not assigned' 'Not assigned']\n",
            "['M8L' 'Not assigned' 'Not assigned']\n",
            "['M9L' 'North York' 'Humber Summit']\n",
            "['M1M' 'Scarborough' 'Cliffside, Cliffcrest, Scarborough Village West']\n",
            "['M2M' 'North York' 'Willowdale, Newtonbrook']\n",
            "['M3M' 'North York' 'Downsview']\n",
            "['M4M' 'East Toronto' 'Studio District']\n",
            "['M5M' 'North York' 'Bedford Park, Lawrence Manor East']\n",
            "['M6M' 'York' 'Del Ray, Mount Dennis, Keelsdale and Silverthorn']\n",
            "['M7M' 'Not assigned' 'Not assigned']\n",
            "['M8M' 'Not assigned' 'Not assigned']\n",
            "['M9M' 'North York' 'Humberlea, Emery']\n",
            "['M1N' 'Scarborough' 'Birch Cliff, Cliffside West']\n",
            "['M2N' 'North York' 'Willowdale, Willowdale East']\n",
            "['M3N' 'North York' 'Downsview']\n",
            "['M4N' 'Central Toronto' 'Lawrence Park']\n",
            "['M5N' 'Central Toronto' 'Roselawn']\n",
            "['M6N' 'York' 'Runnymede, The Junction North']\n",
            "['M7N' 'Not assigned' 'Not assigned']\n",
            "['M8N' 'Not assigned' 'Not assigned']\n",
            "['M9N' 'York' 'Weston']\n",
            "['M1P' 'Scarborough'\n",
            " 'Dorset Park, Wexford Heights, Scarborough Town Centre']\n",
            "['M2P' 'North York' 'York Mills West']\n",
            "['M3P' 'Not assigned' 'Not assigned']\n",
            "['M4P' 'Central Toronto' 'Davisville North']\n",
            "['M5P' 'Central Toronto' 'Forest Hill North & West, Forest Hill Road Park']\n",
            "['M6P' 'West Toronto' 'High Park, The Junction South']\n",
            "['M7P' 'Not assigned' 'Not assigned']\n",
            "['M8P' 'Not assigned' 'Not assigned']\n",
            "['M9P' 'Etobicoke' 'Westmount']\n",
            "['M1R' 'Scarborough' 'Wexford, Maryvale']\n",
            "['M2R' 'North York' 'Willowdale, Willowdale West']\n",
            "['M3R' 'Not assigned' 'Not assigned']\n",
            "['M4R' 'Central Toronto' 'North Toronto West,  Lawrence Park']\n",
            "['M5R' 'Central Toronto' 'The Annex, North Midtown, Yorkville']\n",
            "['M6R' 'West Toronto' 'Parkdale, Roncesvalles']\n",
            "['M7R' 'Mississauga' 'Canada Post Gateway Processing Centre']\n",
            "['M8R' 'Not assigned' 'Not assigned']\n",
            "['M9R' 'Etobicoke'\n",
            " 'Kingsview Village, St. Phillips, Martin Grove Gardens, Richview Gardens']\n",
            "['M1S' 'Scarborough' 'Agincourt']\n",
            "['M2S' 'Not assigned' 'Not assigned']\n",
            "['M3S' 'Not assigned' 'Not assigned']\n",
            "['M4S' 'Central Toronto' 'Davisville']\n",
            "['M5S' 'Downtown Toronto' 'University of Toronto, Harbord']\n",
            "['M6S' 'West Toronto' 'Runnymede, Swansea']\n",
            "['M7S' 'Not assigned' 'Not assigned']\n",
            "['M8S' 'Not assigned' 'Not assigned']\n",
            "['M9S' 'Not assigned' 'Not assigned']\n",
            "['M1T' 'Scarborough' \"Clarks Corners, Tam O'Shanter, Sullivan\"]\n",
            "['M2T' 'Not assigned' 'Not assigned']\n",
            "['M3T' 'Not assigned' 'Not assigned']\n",
            "['M4T' 'Central Toronto' 'Moore Park, Summerhill East']\n",
            "['M5T' 'Downtown Toronto' 'Kensington Market, Chinatown, Grange Park']\n",
            "['M6T' 'Not assigned' 'Not assigned']\n",
            "['M7T' 'Not assigned' 'Not assigned']\n",
            "['M8T' 'Not assigned' 'Not assigned']\n",
            "['M9T' 'Not assigned' 'Not assigned']\n",
            "['M1V' 'Scarborough'\n",
            " \"Milliken, Agincourt North, Steeles East, L'Amoreaux East\"]\n",
            "['M2V' 'Not assigned' 'Not assigned']\n",
            "['M3V' 'Not assigned' 'Not assigned']\n",
            "['M4V' 'Central Toronto'\n",
            " 'Summerhill West, Rathnelly, South Hill, Forest Hill SE, Deer Park']\n",
            "['M5V' 'Downtown Toronto'\n",
            " 'CN Tower, King and Spadina, Railway Lands, Harbourfront West, Bathurst Quay, South Niagara, Island airport']\n",
            "['M6V' 'Not assigned' 'Not assigned']\n",
            "['M7V' 'Not assigned' 'Not assigned']\n",
            "['M8V' 'Etobicoke' 'New Toronto, Mimico South, Humber Bay Shores']\n",
            "['M9V' 'Etobicoke'\n",
            " 'South Steeles, Silverstone, Humbergate, Jamestown, Mount Olive, Beaumond Heights, Thistletown, Albion Gardens']\n",
            "['M1W' 'Scarborough' \"Steeles West, L'Amoreaux West\"]\n",
            "['M2W' 'Not assigned' 'Not assigned']\n",
            "['M3W' 'Not assigned' 'Not assigned']\n",
            "['M4W' 'Downtown Toronto' 'Rosedale']\n",
            "['M5W' 'Downtown Toronto' 'Stn A PO Boxes']\n",
            "['M6W' 'Not assigned' 'Not assigned']\n",
            "['M7W' 'Not assigned' 'Not assigned']\n",
            "['M8W' 'Etobicoke' 'Alderwood, Long Branch']\n",
            "['M9W' 'Etobicoke' 'Northwest, West Humber - Clairville']\n",
            "['M1X' 'Scarborough' 'Upper Rouge']\n",
            "['M2X' 'Not assigned' 'Not assigned']\n",
            "['M3X' 'Not assigned' 'Not assigned']\n",
            "['M4X' 'Downtown Toronto' 'St. James Town, Cabbagetown']\n",
            "['M5X' 'Downtown Toronto' 'First Canadian Place, Underground city']\n",
            "['M6X' 'Not assigned' 'Not assigned']\n",
            "['M7X' 'Not assigned' 'Not assigned']\n",
            "['M8X' 'Etobicoke' 'The Kingsway, Montgomery Road, Old Mill North']\n",
            "['M9X' 'Not assigned' 'Not assigned']\n",
            "['M1Y' 'Not assigned' 'Not assigned']\n",
            "['M2Y' 'Not assigned' 'Not assigned']\n",
            "['M3Y' 'Not assigned' 'Not assigned']\n",
            "['M4Y' 'Downtown Toronto' 'Church and Wellesley']\n",
            "['M5Y' 'Not assigned' 'Not assigned']\n",
            "['M6Y' 'Not assigned' 'Not assigned']\n",
            "['M7Y' 'East Toronto'\n",
            " 'Business reply mail Processing Centre, South Central Letter Processing Plant Toronto']\n",
            "['M8Y' 'Etobicoke'\n",
            " \"Old Mill South, King's Mill Park, Sunnylea, Humber Bay, Mimico NE, The Queensway East, Royal York South East, Kingsway Park South East\"]\n",
            "['M9Y' 'Not assigned' 'Not assigned']\n",
            "['M1Z' 'Not assigned' 'Not assigned']\n",
            "['M2Z' 'Not assigned' 'Not assigned']\n",
            "['M3Z' 'Not assigned' 'Not assigned']\n",
            "['M4Z' 'Not assigned' 'Not assigned']\n",
            "['M5Z' 'Not assigned' 'Not assigned']\n",
            "['M6Z' 'Not assigned' 'Not assigned']\n",
            "['M7Z' 'Not assigned' 'Not assigned']\n",
            "['M8Z' 'Etobicoke'\n",
            " 'Mimico NW, The Queensway West, South of Bloor, Kingsway Park South West, Royal York South West']\n",
            "['M9Z' 'Not assigned' 'Not assigned']\n"
          ],
          "name": "stdout"
        }
      ]
    },
    {
      "cell_type": "markdown",
      "metadata": {
        "id": "89mhEby8iV4p",
        "colab_type": "text"
      },
      "source": [
        "Create dataframe"
      ]
    },
    {
      "cell_type": "code",
      "metadata": {
        "id": "jO61otDbcgSK",
        "colab_type": "code",
        "colab": {
          "base_uri": "https://localhost:8080/",
          "height": 399
        },
        "outputId": "213233c2-4b40-4ec6-9b8e-254e51029fcf"
      },
      "source": [
        "df_original = pd.DataFrame(data=data, columns=['Postalcode','Borough','Neighborhood']) \n",
        "df_original"
      ],
      "execution_count": 3,
      "outputs": [
        {
          "output_type": "execute_result",
          "data": {
            "text/html": [
              "<div>\n",
              "<style scoped>\n",
              "    .dataframe tbody tr th:only-of-type {\n",
              "        vertical-align: middle;\n",
              "    }\n",
              "\n",
              "    .dataframe tbody tr th {\n",
              "        vertical-align: top;\n",
              "    }\n",
              "\n",
              "    .dataframe thead th {\n",
              "        text-align: right;\n",
              "    }\n",
              "</style>\n",
              "<table border=\"1\" class=\"dataframe\">\n",
              "  <thead>\n",
              "    <tr style=\"text-align: right;\">\n",
              "      <th></th>\n",
              "      <th>Postalcode</th>\n",
              "      <th>Borough</th>\n",
              "      <th>Neighborhood</th>\n",
              "    </tr>\n",
              "  </thead>\n",
              "  <tbody>\n",
              "    <tr>\n",
              "      <th>0</th>\n",
              "      <td>M1A</td>\n",
              "      <td>Not assigned</td>\n",
              "      <td>Not assigned</td>\n",
              "    </tr>\n",
              "    <tr>\n",
              "      <th>1</th>\n",
              "      <td>M2A</td>\n",
              "      <td>Not assigned</td>\n",
              "      <td>Not assigned</td>\n",
              "    </tr>\n",
              "    <tr>\n",
              "      <th>2</th>\n",
              "      <td>M3A</td>\n",
              "      <td>North York</td>\n",
              "      <td>Parkwoods</td>\n",
              "    </tr>\n",
              "    <tr>\n",
              "      <th>3</th>\n",
              "      <td>M4A</td>\n",
              "      <td>North York</td>\n",
              "      <td>Victoria Village</td>\n",
              "    </tr>\n",
              "    <tr>\n",
              "      <th>4</th>\n",
              "      <td>M5A</td>\n",
              "      <td>Downtown Toronto</td>\n",
              "      <td>Regent Park, Harbourfront</td>\n",
              "    </tr>\n",
              "    <tr>\n",
              "      <th>...</th>\n",
              "      <td>...</td>\n",
              "      <td>...</td>\n",
              "      <td>...</td>\n",
              "    </tr>\n",
              "    <tr>\n",
              "      <th>175</th>\n",
              "      <td>M5Z</td>\n",
              "      <td>Not assigned</td>\n",
              "      <td>Not assigned</td>\n",
              "    </tr>\n",
              "    <tr>\n",
              "      <th>176</th>\n",
              "      <td>M6Z</td>\n",
              "      <td>Not assigned</td>\n",
              "      <td>Not assigned</td>\n",
              "    </tr>\n",
              "    <tr>\n",
              "      <th>177</th>\n",
              "      <td>M7Z</td>\n",
              "      <td>Not assigned</td>\n",
              "      <td>Not assigned</td>\n",
              "    </tr>\n",
              "    <tr>\n",
              "      <th>178</th>\n",
              "      <td>M8Z</td>\n",
              "      <td>Etobicoke</td>\n",
              "      <td>Mimico NW, The Queensway West, South of Bloor,...</td>\n",
              "    </tr>\n",
              "    <tr>\n",
              "      <th>179</th>\n",
              "      <td>M9Z</td>\n",
              "      <td>Not assigned</td>\n",
              "      <td>Not assigned</td>\n",
              "    </tr>\n",
              "  </tbody>\n",
              "</table>\n",
              "<p>180 rows × 3 columns</p>\n",
              "</div>"
            ],
            "text/plain": [
              "    Postalcode  ...                                       Neighborhood\n",
              "0          M1A  ...                                       Not assigned\n",
              "1          M2A  ...                                       Not assigned\n",
              "2          M3A  ...                                          Parkwoods\n",
              "3          M4A  ...                                   Victoria Village\n",
              "4          M5A  ...                          Regent Park, Harbourfront\n",
              "..         ...  ...                                                ...\n",
              "175        M5Z  ...                                       Not assigned\n",
              "176        M6Z  ...                                       Not assigned\n",
              "177        M7Z  ...                                       Not assigned\n",
              "178        M8Z  ...  Mimico NW, The Queensway West, South of Bloor,...\n",
              "179        M9Z  ...                                       Not assigned\n",
              "\n",
              "[180 rows x 3 columns]"
            ]
          },
          "metadata": {
            "tags": []
          },
          "execution_count": 3
        }
      ]
    },
    {
      "cell_type": "markdown",
      "metadata": {
        "id": "plORj31_ibGP",
        "colab_type": "text"
      },
      "source": [
        "Ignore not assigned boroughs"
      ]
    },
    {
      "cell_type": "code",
      "metadata": {
        "id": "PwsxU-DsdGPw",
        "colab_type": "code",
        "colab": {
          "base_uri": "https://localhost:8080/",
          "height": 399
        },
        "outputId": "0ae5a037-b9ad-40f4-cd3a-a1a25d3fca2b"
      },
      "source": [
        "df_clean = df_original[df_original.Borough != 'Not assigned']\n",
        "df_clean"
      ],
      "execution_count": 4,
      "outputs": [
        {
          "output_type": "execute_result",
          "data": {
            "text/html": [
              "<div>\n",
              "<style scoped>\n",
              "    .dataframe tbody tr th:only-of-type {\n",
              "        vertical-align: middle;\n",
              "    }\n",
              "\n",
              "    .dataframe tbody tr th {\n",
              "        vertical-align: top;\n",
              "    }\n",
              "\n",
              "    .dataframe thead th {\n",
              "        text-align: right;\n",
              "    }\n",
              "</style>\n",
              "<table border=\"1\" class=\"dataframe\">\n",
              "  <thead>\n",
              "    <tr style=\"text-align: right;\">\n",
              "      <th></th>\n",
              "      <th>Postalcode</th>\n",
              "      <th>Borough</th>\n",
              "      <th>Neighborhood</th>\n",
              "    </tr>\n",
              "  </thead>\n",
              "  <tbody>\n",
              "    <tr>\n",
              "      <th>2</th>\n",
              "      <td>M3A</td>\n",
              "      <td>North York</td>\n",
              "      <td>Parkwoods</td>\n",
              "    </tr>\n",
              "    <tr>\n",
              "      <th>3</th>\n",
              "      <td>M4A</td>\n",
              "      <td>North York</td>\n",
              "      <td>Victoria Village</td>\n",
              "    </tr>\n",
              "    <tr>\n",
              "      <th>4</th>\n",
              "      <td>M5A</td>\n",
              "      <td>Downtown Toronto</td>\n",
              "      <td>Regent Park, Harbourfront</td>\n",
              "    </tr>\n",
              "    <tr>\n",
              "      <th>5</th>\n",
              "      <td>M6A</td>\n",
              "      <td>North York</td>\n",
              "      <td>Lawrence Manor, Lawrence Heights</td>\n",
              "    </tr>\n",
              "    <tr>\n",
              "      <th>6</th>\n",
              "      <td>M7A</td>\n",
              "      <td>Downtown Toronto</td>\n",
              "      <td>Queen's Park, Ontario Provincial Government</td>\n",
              "    </tr>\n",
              "    <tr>\n",
              "      <th>...</th>\n",
              "      <td>...</td>\n",
              "      <td>...</td>\n",
              "      <td>...</td>\n",
              "    </tr>\n",
              "    <tr>\n",
              "      <th>160</th>\n",
              "      <td>M8X</td>\n",
              "      <td>Etobicoke</td>\n",
              "      <td>The Kingsway, Montgomery Road, Old Mill North</td>\n",
              "    </tr>\n",
              "    <tr>\n",
              "      <th>165</th>\n",
              "      <td>M4Y</td>\n",
              "      <td>Downtown Toronto</td>\n",
              "      <td>Church and Wellesley</td>\n",
              "    </tr>\n",
              "    <tr>\n",
              "      <th>168</th>\n",
              "      <td>M7Y</td>\n",
              "      <td>East Toronto</td>\n",
              "      <td>Business reply mail Processing Centre, South C...</td>\n",
              "    </tr>\n",
              "    <tr>\n",
              "      <th>169</th>\n",
              "      <td>M8Y</td>\n",
              "      <td>Etobicoke</td>\n",
              "      <td>Old Mill South, King's Mill Park, Sunnylea, Hu...</td>\n",
              "    </tr>\n",
              "    <tr>\n",
              "      <th>178</th>\n",
              "      <td>M8Z</td>\n",
              "      <td>Etobicoke</td>\n",
              "      <td>Mimico NW, The Queensway West, South of Bloor,...</td>\n",
              "    </tr>\n",
              "  </tbody>\n",
              "</table>\n",
              "<p>103 rows × 3 columns</p>\n",
              "</div>"
            ],
            "text/plain": [
              "    Postalcode  ...                                       Neighborhood\n",
              "2          M3A  ...                                          Parkwoods\n",
              "3          M4A  ...                                   Victoria Village\n",
              "4          M5A  ...                          Regent Park, Harbourfront\n",
              "5          M6A  ...                   Lawrence Manor, Lawrence Heights\n",
              "6          M7A  ...        Queen's Park, Ontario Provincial Government\n",
              "..         ...  ...                                                ...\n",
              "160        M8X  ...      The Kingsway, Montgomery Road, Old Mill North\n",
              "165        M4Y  ...                               Church and Wellesley\n",
              "168        M7Y  ...  Business reply mail Processing Centre, South C...\n",
              "169        M8Y  ...  Old Mill South, King's Mill Park, Sunnylea, Hu...\n",
              "178        M8Z  ...  Mimico NW, The Queensway West, South of Bloor,...\n",
              "\n",
              "[103 rows x 3 columns]"
            ]
          },
          "metadata": {
            "tags": []
          },
          "execution_count": 4
        }
      ]
    },
    {
      "cell_type": "markdown",
      "metadata": {
        "id": "-vqYYxNvii_0",
        "colab_type": "text"
      },
      "source": [
        "Check not assigned neighborhood. All neighborhoods are assigned"
      ]
    },
    {
      "cell_type": "code",
      "metadata": {
        "id": "4IaJ_x7Qd6DF",
        "colab_type": "code",
        "colab": {
          "base_uri": "https://localhost:8080/",
          "height": 47
        },
        "outputId": "fcd361d8-7bda-46ce-aa70-4e98751d8533"
      },
      "source": [
        "df_clean[df_clean.Neighborhood == 'Not assigned']"
      ],
      "execution_count": 5,
      "outputs": [
        {
          "output_type": "execute_result",
          "data": {
            "text/html": [
              "<div>\n",
              "<style scoped>\n",
              "    .dataframe tbody tr th:only-of-type {\n",
              "        vertical-align: middle;\n",
              "    }\n",
              "\n",
              "    .dataframe tbody tr th {\n",
              "        vertical-align: top;\n",
              "    }\n",
              "\n",
              "    .dataframe thead th {\n",
              "        text-align: right;\n",
              "    }\n",
              "</style>\n",
              "<table border=\"1\" class=\"dataframe\">\n",
              "  <thead>\n",
              "    <tr style=\"text-align: right;\">\n",
              "      <th></th>\n",
              "      <th>Postalcode</th>\n",
              "      <th>Borough</th>\n",
              "      <th>Neighborhood</th>\n",
              "    </tr>\n",
              "  </thead>\n",
              "  <tbody>\n",
              "  </tbody>\n",
              "</table>\n",
              "</div>"
            ],
            "text/plain": [
              "Empty DataFrame\n",
              "Columns: [Postalcode, Borough, Neighborhood]\n",
              "Index: []"
            ]
          },
          "metadata": {
            "tags": []
          },
          "execution_count": 5
        }
      ]
    },
    {
      "cell_type": "markdown",
      "metadata": {
        "id": "RqM2UMKAiyiT",
        "colab_type": "text"
      },
      "source": [
        "Check duplicate postal code. No duplicate"
      ]
    },
    {
      "cell_type": "code",
      "metadata": {
        "id": "rlQ7ueU5eqG9",
        "colab_type": "code",
        "colab": {
          "base_uri": "https://localhost:8080/",
          "height": 35
        },
        "outputId": "0e28b22e-0b38-458b-d6de-f8ec292bba58"
      },
      "source": [
        "vc = df_clean.Postalcode.value_counts()\n",
        "# check number of postal code that appeared in more than one row\n",
        "len(vc[vc > 1])"
      ],
      "execution_count": 6,
      "outputs": [
        {
          "output_type": "execute_result",
          "data": {
            "text/plain": [
              "0"
            ]
          },
          "metadata": {
            "tags": []
          },
          "execution_count": 6
        }
      ]
    },
    {
      "cell_type": "markdown",
      "metadata": {
        "id": "gRBhch_Ki4DQ",
        "colab_type": "text"
      },
      "source": [
        "Check number of rows in the dataframe"
      ]
    },
    {
      "cell_type": "code",
      "metadata": {
        "id": "dyYfzaqFe9z1",
        "colab_type": "code",
        "colab": {
          "base_uri": "https://localhost:8080/",
          "height": 35
        },
        "outputId": "81535557-6467-408a-b3a0-47090cd227ae"
      },
      "source": [
        "df_clean.shape"
      ],
      "execution_count": 7,
      "outputs": [
        {
          "output_type": "execute_result",
          "data": {
            "text/plain": [
              "(103, 3)"
            ]
          },
          "metadata": {
            "tags": []
          },
          "execution_count": 7
        }
      ]
    },
    {
      "cell_type": "markdown",
      "metadata": {
        "id": "BwJAA6HgnJjH",
        "colab_type": "text"
      },
      "source": [
        "## Final Result-Part 1\n",
        "\n"
      ]
    },
    {
      "cell_type": "code",
      "metadata": {
        "id": "o_aLu2IDnIxV",
        "colab_type": "code",
        "colab": {
          "base_uri": "https://localhost:8080/",
          "height": 399
        },
        "outputId": "629d7552-b094-49ed-8938-26f2b322a628"
      },
      "source": [
        "df_clean = df_clean.reset_index(drop=True)\n",
        "df_clean"
      ],
      "execution_count": 8,
      "outputs": [
        {
          "output_type": "execute_result",
          "data": {
            "text/html": [
              "<div>\n",
              "<style scoped>\n",
              "    .dataframe tbody tr th:only-of-type {\n",
              "        vertical-align: middle;\n",
              "    }\n",
              "\n",
              "    .dataframe tbody tr th {\n",
              "        vertical-align: top;\n",
              "    }\n",
              "\n",
              "    .dataframe thead th {\n",
              "        text-align: right;\n",
              "    }\n",
              "</style>\n",
              "<table border=\"1\" class=\"dataframe\">\n",
              "  <thead>\n",
              "    <tr style=\"text-align: right;\">\n",
              "      <th></th>\n",
              "      <th>Postalcode</th>\n",
              "      <th>Borough</th>\n",
              "      <th>Neighborhood</th>\n",
              "    </tr>\n",
              "  </thead>\n",
              "  <tbody>\n",
              "    <tr>\n",
              "      <th>0</th>\n",
              "      <td>M3A</td>\n",
              "      <td>North York</td>\n",
              "      <td>Parkwoods</td>\n",
              "    </tr>\n",
              "    <tr>\n",
              "      <th>1</th>\n",
              "      <td>M4A</td>\n",
              "      <td>North York</td>\n",
              "      <td>Victoria Village</td>\n",
              "    </tr>\n",
              "    <tr>\n",
              "      <th>2</th>\n",
              "      <td>M5A</td>\n",
              "      <td>Downtown Toronto</td>\n",
              "      <td>Regent Park, Harbourfront</td>\n",
              "    </tr>\n",
              "    <tr>\n",
              "      <th>3</th>\n",
              "      <td>M6A</td>\n",
              "      <td>North York</td>\n",
              "      <td>Lawrence Manor, Lawrence Heights</td>\n",
              "    </tr>\n",
              "    <tr>\n",
              "      <th>4</th>\n",
              "      <td>M7A</td>\n",
              "      <td>Downtown Toronto</td>\n",
              "      <td>Queen's Park, Ontario Provincial Government</td>\n",
              "    </tr>\n",
              "    <tr>\n",
              "      <th>...</th>\n",
              "      <td>...</td>\n",
              "      <td>...</td>\n",
              "      <td>...</td>\n",
              "    </tr>\n",
              "    <tr>\n",
              "      <th>98</th>\n",
              "      <td>M8X</td>\n",
              "      <td>Etobicoke</td>\n",
              "      <td>The Kingsway, Montgomery Road, Old Mill North</td>\n",
              "    </tr>\n",
              "    <tr>\n",
              "      <th>99</th>\n",
              "      <td>M4Y</td>\n",
              "      <td>Downtown Toronto</td>\n",
              "      <td>Church and Wellesley</td>\n",
              "    </tr>\n",
              "    <tr>\n",
              "      <th>100</th>\n",
              "      <td>M7Y</td>\n",
              "      <td>East Toronto</td>\n",
              "      <td>Business reply mail Processing Centre, South C...</td>\n",
              "    </tr>\n",
              "    <tr>\n",
              "      <th>101</th>\n",
              "      <td>M8Y</td>\n",
              "      <td>Etobicoke</td>\n",
              "      <td>Old Mill South, King's Mill Park, Sunnylea, Hu...</td>\n",
              "    </tr>\n",
              "    <tr>\n",
              "      <th>102</th>\n",
              "      <td>M8Z</td>\n",
              "      <td>Etobicoke</td>\n",
              "      <td>Mimico NW, The Queensway West, South of Bloor,...</td>\n",
              "    </tr>\n",
              "  </tbody>\n",
              "</table>\n",
              "<p>103 rows × 3 columns</p>\n",
              "</div>"
            ],
            "text/plain": [
              "    Postalcode  ...                                       Neighborhood\n",
              "0          M3A  ...                                          Parkwoods\n",
              "1          M4A  ...                                   Victoria Village\n",
              "2          M5A  ...                          Regent Park, Harbourfront\n",
              "3          M6A  ...                   Lawrence Manor, Lawrence Heights\n",
              "4          M7A  ...        Queen's Park, Ontario Provincial Government\n",
              "..         ...  ...                                                ...\n",
              "98         M8X  ...      The Kingsway, Montgomery Road, Old Mill North\n",
              "99         M4Y  ...                               Church and Wellesley\n",
              "100        M7Y  ...  Business reply mail Processing Centre, South C...\n",
              "101        M8Y  ...  Old Mill South, King's Mill Park, Sunnylea, Hu...\n",
              "102        M8Z  ...  Mimico NW, The Queensway West, South of Bloor,...\n",
              "\n",
              "[103 rows x 3 columns]"
            ]
          },
          "metadata": {
            "tags": []
          },
          "execution_count": 8
        }
      ]
    },
    {
      "cell_type": "markdown",
      "metadata": {
        "id": "xKIXr9tTnQ-n",
        "colab_type": "text"
      },
      "source": [
        "# Part 2"
      ]
    },
    {
      "cell_type": "code",
      "metadata": {
        "id": "yplL-nhwoutR",
        "colab_type": "code",
        "colab": {
          "base_uri": "https://localhost:8080/",
          "height": 399
        },
        "outputId": "50214af4-dd95-4ce7-a64b-8f8594d827e9"
      },
      "source": [
        "df_geo = pd.read_csv('/content/drive/My Drive/datasets/Coursera/Geospatial_Coordinates.csv')\n",
        "\n",
        "df_combined = df_clean\n",
        "df_combined['Latitude'] = df_combined['Postalcode'].map(df_geo.set_index('Postal Code')['Latitude'])\n",
        "df_combined['Longitude'] = df_combined['Postalcode'].map(df_geo.set_index('Postal Code')['Longitude'])\n",
        "\n",
        "df_combined"
      ],
      "execution_count": 9,
      "outputs": [
        {
          "output_type": "execute_result",
          "data": {
            "text/html": [
              "<div>\n",
              "<style scoped>\n",
              "    .dataframe tbody tr th:only-of-type {\n",
              "        vertical-align: middle;\n",
              "    }\n",
              "\n",
              "    .dataframe tbody tr th {\n",
              "        vertical-align: top;\n",
              "    }\n",
              "\n",
              "    .dataframe thead th {\n",
              "        text-align: right;\n",
              "    }\n",
              "</style>\n",
              "<table border=\"1\" class=\"dataframe\">\n",
              "  <thead>\n",
              "    <tr style=\"text-align: right;\">\n",
              "      <th></th>\n",
              "      <th>Postalcode</th>\n",
              "      <th>Borough</th>\n",
              "      <th>Neighborhood</th>\n",
              "      <th>Latitude</th>\n",
              "      <th>Longitude</th>\n",
              "    </tr>\n",
              "  </thead>\n",
              "  <tbody>\n",
              "    <tr>\n",
              "      <th>0</th>\n",
              "      <td>M3A</td>\n",
              "      <td>North York</td>\n",
              "      <td>Parkwoods</td>\n",
              "      <td>43.753259</td>\n",
              "      <td>-79.329656</td>\n",
              "    </tr>\n",
              "    <tr>\n",
              "      <th>1</th>\n",
              "      <td>M4A</td>\n",
              "      <td>North York</td>\n",
              "      <td>Victoria Village</td>\n",
              "      <td>43.725882</td>\n",
              "      <td>-79.315572</td>\n",
              "    </tr>\n",
              "    <tr>\n",
              "      <th>2</th>\n",
              "      <td>M5A</td>\n",
              "      <td>Downtown Toronto</td>\n",
              "      <td>Regent Park, Harbourfront</td>\n",
              "      <td>43.654260</td>\n",
              "      <td>-79.360636</td>\n",
              "    </tr>\n",
              "    <tr>\n",
              "      <th>3</th>\n",
              "      <td>M6A</td>\n",
              "      <td>North York</td>\n",
              "      <td>Lawrence Manor, Lawrence Heights</td>\n",
              "      <td>43.718518</td>\n",
              "      <td>-79.464763</td>\n",
              "    </tr>\n",
              "    <tr>\n",
              "      <th>4</th>\n",
              "      <td>M7A</td>\n",
              "      <td>Downtown Toronto</td>\n",
              "      <td>Queen's Park, Ontario Provincial Government</td>\n",
              "      <td>43.662301</td>\n",
              "      <td>-79.389494</td>\n",
              "    </tr>\n",
              "    <tr>\n",
              "      <th>...</th>\n",
              "      <td>...</td>\n",
              "      <td>...</td>\n",
              "      <td>...</td>\n",
              "      <td>...</td>\n",
              "      <td>...</td>\n",
              "    </tr>\n",
              "    <tr>\n",
              "      <th>98</th>\n",
              "      <td>M8X</td>\n",
              "      <td>Etobicoke</td>\n",
              "      <td>The Kingsway, Montgomery Road, Old Mill North</td>\n",
              "      <td>43.653654</td>\n",
              "      <td>-79.506944</td>\n",
              "    </tr>\n",
              "    <tr>\n",
              "      <th>99</th>\n",
              "      <td>M4Y</td>\n",
              "      <td>Downtown Toronto</td>\n",
              "      <td>Church and Wellesley</td>\n",
              "      <td>43.665860</td>\n",
              "      <td>-79.383160</td>\n",
              "    </tr>\n",
              "    <tr>\n",
              "      <th>100</th>\n",
              "      <td>M7Y</td>\n",
              "      <td>East Toronto</td>\n",
              "      <td>Business reply mail Processing Centre, South C...</td>\n",
              "      <td>43.662744</td>\n",
              "      <td>-79.321558</td>\n",
              "    </tr>\n",
              "    <tr>\n",
              "      <th>101</th>\n",
              "      <td>M8Y</td>\n",
              "      <td>Etobicoke</td>\n",
              "      <td>Old Mill South, King's Mill Park, Sunnylea, Hu...</td>\n",
              "      <td>43.636258</td>\n",
              "      <td>-79.498509</td>\n",
              "    </tr>\n",
              "    <tr>\n",
              "      <th>102</th>\n",
              "      <td>M8Z</td>\n",
              "      <td>Etobicoke</td>\n",
              "      <td>Mimico NW, The Queensway West, South of Bloor,...</td>\n",
              "      <td>43.628841</td>\n",
              "      <td>-79.520999</td>\n",
              "    </tr>\n",
              "  </tbody>\n",
              "</table>\n",
              "<p>103 rows × 5 columns</p>\n",
              "</div>"
            ],
            "text/plain": [
              "    Postalcode           Borough  ...   Latitude  Longitude\n",
              "0          M3A        North York  ...  43.753259 -79.329656\n",
              "1          M4A        North York  ...  43.725882 -79.315572\n",
              "2          M5A  Downtown Toronto  ...  43.654260 -79.360636\n",
              "3          M6A        North York  ...  43.718518 -79.464763\n",
              "4          M7A  Downtown Toronto  ...  43.662301 -79.389494\n",
              "..         ...               ...  ...        ...        ...\n",
              "98         M8X         Etobicoke  ...  43.653654 -79.506944\n",
              "99         M4Y  Downtown Toronto  ...  43.665860 -79.383160\n",
              "100        M7Y      East Toronto  ...  43.662744 -79.321558\n",
              "101        M8Y         Etobicoke  ...  43.636258 -79.498509\n",
              "102        M8Z         Etobicoke  ...  43.628841 -79.520999\n",
              "\n",
              "[103 rows x 5 columns]"
            ]
          },
          "metadata": {
            "tags": []
          },
          "execution_count": 9
        }
      ]
    },
    {
      "cell_type": "code",
      "metadata": {
        "id": "f6ErN8C-pNcz",
        "colab_type": "code",
        "colab": {}
      },
      "source": [
        ""
      ],
      "execution_count": 9,
      "outputs": []
    }
  ]
}